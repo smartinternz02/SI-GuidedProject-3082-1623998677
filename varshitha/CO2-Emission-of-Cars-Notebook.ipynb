{
 "cells": [
  {
   "cell_type": "markdown",
   "metadata": {},
   "source": [
    "## Importing libraries"
   ]
  },
  {
   "cell_type": "code",
   "execution_count": 1,
   "metadata": {},
   "outputs": [],
   "source": [
    "import pandas as pd\n",
    "\n",
    "import numpy as np\n",
    "\n",
    "from collections import Counter as c\n",
    "\n",
    "import seaborn as sns\n",
    "\n",
    "import matplotlib.pyplot as plt\n",
    "\n",
    "import missingno as msno"
   ]
  },
  {
   "cell_type": "code",
   "execution_count": 2,
   "metadata": {},
   "outputs": [],
   "source": [
    "from sklearn.model_selection import train_test_split\n",
    "\n",
    "from sklearn.metrics import accuracy_score, mean_squared_error, mean_absolute_error\n",
    "\n",
    "import pickle\n",
    "\n",
    "from sklearn.linear_model import LinearRegression"
   ]
  },
  {
   "cell_type": "markdown",
   "metadata": {},
   "source": [
    "## Read the Dataset"
   ]
  },
  {
   "cell_type": "code",
   "execution_count": 3,
   "metadata": {},
   "outputs": [],
   "source": [
    "data = pd.read_csv('C:/Users/JYOTHSNA/Downloads/CO2-Emission-of-Cars-main/Dataset/Sample.csv')"
   ]
  },
  {
   "cell_type": "code",
   "execution_count": 4,
   "metadata": {},
   "outputs": [
    {
     "data": {
      "text/html": [
       "<div>\n",
       "<style scoped>\n",
       "    .dataframe tbody tr th:only-of-type {\n",
       "        vertical-align: middle;\n",
       "    }\n",
       "\n",
       "    .dataframe tbody tr th {\n",
       "        vertical-align: top;\n",
       "    }\n",
       "\n",
       "    .dataframe thead th {\n",
       "        text-align: right;\n",
       "    }\n",
       "</style>\n",
       "<table border=\"1\" class=\"dataframe\">\n",
       "  <thead>\n",
       "    <tr style=\"text-align: right;\">\n",
       "      <th></th>\n",
       "      <th>MODEL</th>\n",
       "      <th>MAKE</th>\n",
       "      <th>MODEL.1</th>\n",
       "      <th>VEHICLE CLASS</th>\n",
       "      <th>ENGINE_SIZE</th>\n",
       "      <th>CYLINDERS</th>\n",
       "      <th>TRANSMISSION</th>\n",
       "      <th>FUEL</th>\n",
       "      <th>FUEL_CONSUMPTION*</th>\n",
       "      <th>Unnamed: 9</th>\n",
       "      <th>Unnamed: 10</th>\n",
       "      <th>Unnamed: 11</th>\n",
       "      <th>CO2_EMISSIONS</th>\n",
       "    </tr>\n",
       "  </thead>\n",
       "  <tbody>\n",
       "    <tr>\n",
       "      <th>0</th>\n",
       "      <td>2001</td>\n",
       "      <td>ACURA</td>\n",
       "      <td>1.7EL</td>\n",
       "      <td>COMPACT</td>\n",
       "      <td>1.7</td>\n",
       "      <td>4</td>\n",
       "      <td>A4</td>\n",
       "      <td>X</td>\n",
       "      <td>9.3</td>\n",
       "      <td>7.2</td>\n",
       "      <td>8.3</td>\n",
       "      <td>34</td>\n",
       "      <td>191</td>\n",
       "    </tr>\n",
       "    <tr>\n",
       "      <th>1</th>\n",
       "      <td>2001</td>\n",
       "      <td>ACURA</td>\n",
       "      <td>1.7EL</td>\n",
       "      <td>COMPACT</td>\n",
       "      <td>1.7</td>\n",
       "      <td>4</td>\n",
       "      <td>M5</td>\n",
       "      <td>X</td>\n",
       "      <td>8.9</td>\n",
       "      <td>7.4</td>\n",
       "      <td>8.3</td>\n",
       "      <td>34</td>\n",
       "      <td>191</td>\n",
       "    </tr>\n",
       "    <tr>\n",
       "      <th>2</th>\n",
       "      <td>2001</td>\n",
       "      <td>ACURA</td>\n",
       "      <td>3.2CL</td>\n",
       "      <td>COMPACT</td>\n",
       "      <td>3.2</td>\n",
       "      <td>6</td>\n",
       "      <td>AS5</td>\n",
       "      <td>Z</td>\n",
       "      <td>13.7</td>\n",
       "      <td>8.8</td>\n",
       "      <td>11.5</td>\n",
       "      <td>25</td>\n",
       "      <td>265</td>\n",
       "    </tr>\n",
       "    <tr>\n",
       "      <th>3</th>\n",
       "      <td>2001</td>\n",
       "      <td>ACURA</td>\n",
       "      <td>3.2TL</td>\n",
       "      <td>MID-SIZE</td>\n",
       "      <td>3.2</td>\n",
       "      <td>6</td>\n",
       "      <td>AS5</td>\n",
       "      <td>Z</td>\n",
       "      <td>13.8</td>\n",
       "      <td>8.8</td>\n",
       "      <td>11.6</td>\n",
       "      <td>24</td>\n",
       "      <td>267</td>\n",
       "    </tr>\n",
       "    <tr>\n",
       "      <th>4</th>\n",
       "      <td>2001</td>\n",
       "      <td>ACURA</td>\n",
       "      <td>3.5RL</td>\n",
       "      <td>MID-SIZE</td>\n",
       "      <td>3.5</td>\n",
       "      <td>6</td>\n",
       "      <td>A4</td>\n",
       "      <td>Z</td>\n",
       "      <td>15.0</td>\n",
       "      <td>10.9</td>\n",
       "      <td>13.1</td>\n",
       "      <td>22</td>\n",
       "      <td>301</td>\n",
       "    </tr>\n",
       "  </tbody>\n",
       "</table>\n",
       "</div>"
      ],
      "text/plain": [
       "   MODEL   MAKE MODEL.1 VEHICLE CLASS  ENGINE_SIZE  CYLINDERS TRANSMISSION  \\\n",
       "0   2001  ACURA   1.7EL       COMPACT          1.7          4           A4   \n",
       "1   2001  ACURA   1.7EL       COMPACT          1.7          4           M5   \n",
       "2   2001  ACURA   3.2CL       COMPACT          3.2          6          AS5   \n",
       "3   2001  ACURA   3.2TL      MID-SIZE          3.2          6          AS5   \n",
       "4   2001  ACURA   3.5RL      MID-SIZE          3.5          6           A4   \n",
       "\n",
       "  FUEL  FUEL_CONSUMPTION*  Unnamed: 9  Unnamed: 10  Unnamed: 11  CO2_EMISSIONS  \n",
       "0    X                9.3         7.2          8.3           34            191  \n",
       "1    X                8.9         7.4          8.3           34            191  \n",
       "2    Z               13.7         8.8         11.5           25            265  \n",
       "3    Z               13.8         8.8         11.6           24            267  \n",
       "4    Z               15.0        10.9         13.1           22            301  "
      ]
     },
     "execution_count": 4,
     "metadata": {},
     "output_type": "execute_result"
    }
   ],
   "source": [
    "data.head()"
   ]
  },
  {
   "cell_type": "markdown",
   "metadata": {},
   "source": [
    "## Checking for Null Values"
   ]
  },
  {
   "cell_type": "code",
   "execution_count": 5,
   "metadata": {},
   "outputs": [
    {
     "data": {
      "text/plain": [
       "MODEL                False\n",
       "MAKE                 False\n",
       "MODEL.1              False\n",
       "VEHICLE CLASS        False\n",
       "ENGINE_SIZE          False\n",
       "CYLINDERS            False\n",
       "TRANSMISSION         False\n",
       "FUEL                 False\n",
       "FUEL_CONSUMPTION*    False\n",
       "Unnamed: 9           False\n",
       "Unnamed: 10          False\n",
       "Unnamed: 11          False\n",
       "CO2_EMISSIONS        False\n",
       "dtype: bool"
      ]
     },
     "execution_count": 5,
     "metadata": {},
     "output_type": "execute_result"
    }
   ],
   "source": [
    "data.isnull().any()"
   ]
  },
  {
   "cell_type": "markdown",
   "metadata": {},
   "source": [
    "## Dropping MODEL Column"
   ]
  },
  {
   "cell_type": "code",
   "execution_count": 6,
   "metadata": {},
   "outputs": [],
   "source": [
    "data.drop('MODEL', axis = 1, inplace = True)"
   ]
  },
  {
   "cell_type": "markdown",
   "metadata": {},
   "source": [
    "## Renaming the Columns"
   ]
  },
  {
   "cell_type": "code",
   "execution_count": 7,
   "metadata": {},
   "outputs": [
    {
     "data": {
      "text/plain": [
       "Index(['MAKE', 'MODEL.1', 'VEHICLE CLASS', 'ENGINE_SIZE', 'CYLINDERS',\n",
       "       'TRANSMISSION', 'FUEL', 'FUEL_CONSUMPTION*', 'Unnamed: 9',\n",
       "       'Unnamed: 10', 'Unnamed: 11', 'CO2_EMISSIONS'],\n",
       "      dtype='object')"
      ]
     },
     "execution_count": 7,
     "metadata": {},
     "output_type": "execute_result"
    }
   ],
   "source": [
    "data.columns"
   ]
  },
  {
   "cell_type": "code",
   "execution_count": 8,
   "metadata": {},
   "outputs": [],
   "source": [
    "data.columns = ['Make', 'MODEL.1', 'Vehicle_Class', 'Engine_Size', 'Cylinders', 'Transmission', 'Fuel_type', 'Fuel_Consumption_City', 'Fuel_Consumption_Hwy', 'Fuel_Consumption_Comb(L/100km)', 'Fuel_Consumption_Comb(msg)', 'CO2_Emissions']"
   ]
  },
  {
   "cell_type": "code",
   "execution_count": 9,
   "metadata": {},
   "outputs": [
    {
     "data": {
      "text/plain": [
       "Index(['Make', 'MODEL.1', 'Vehicle_Class', 'Engine_Size', 'Cylinders',\n",
       "       'Transmission', 'Fuel_type', 'Fuel_Consumption_City',\n",
       "       'Fuel_Consumption_Hwy', 'Fuel_Consumption_Comb(L/100km)',\n",
       "       'Fuel_Consumption_Comb(msg)', 'CO2_Emissions'],\n",
       "      dtype='object')"
      ]
     },
     "execution_count": 9,
     "metadata": {},
     "output_type": "execute_result"
    }
   ],
   "source": [
    "data.columns"
   ]
  },
  {
   "cell_type": "markdown",
   "metadata": {},
   "source": [
    "## Understanding Data type and Summary of features"
   ]
  },
  {
   "cell_type": "code",
   "execution_count": 10,
   "metadata": {},
   "outputs": [
    {
     "name": "stdout",
     "output_type": "stream",
     "text": [
      "<class 'pandas.core.frame.DataFrame'>\n",
      "RangeIndex: 679 entries, 0 to 678\n",
      "Data columns (total 12 columns):\n",
      "Make                              679 non-null object\n",
      "MODEL.1                           679 non-null object\n",
      "Vehicle_Class                     679 non-null object\n",
      "Engine_Size                       679 non-null float64\n",
      "Cylinders                         679 non-null int64\n",
      "Transmission                      679 non-null object\n",
      "Fuel_type                         679 non-null object\n",
      "Fuel_Consumption_City             679 non-null float64\n",
      "Fuel_Consumption_Hwy              679 non-null float64\n",
      "Fuel_Consumption_Comb(L/100km)    679 non-null float64\n",
      "Fuel_Consumption_Comb(msg)        679 non-null int64\n",
      "CO2_Emissions                     679 non-null int64\n",
      "dtypes: float64(4), int64(3), object(5)\n",
      "memory usage: 63.7+ KB\n"
     ]
    }
   ],
   "source": [
    "data.info()"
   ]
  },
  {
   "cell_type": "code",
   "execution_count": 11,
   "metadata": {},
   "outputs": [
    {
     "data": {
      "text/html": [
       "<div>\n",
       "<style scoped>\n",
       "    .dataframe tbody tr th:only-of-type {\n",
       "        vertical-align: middle;\n",
       "    }\n",
       "\n",
       "    .dataframe tbody tr th {\n",
       "        vertical-align: top;\n",
       "    }\n",
       "\n",
       "    .dataframe thead th {\n",
       "        text-align: right;\n",
       "    }\n",
       "</style>\n",
       "<table border=\"1\" class=\"dataframe\">\n",
       "  <thead>\n",
       "    <tr style=\"text-align: right;\">\n",
       "      <th></th>\n",
       "      <th>Engine_Size</th>\n",
       "      <th>Cylinders</th>\n",
       "      <th>Fuel_Consumption_City</th>\n",
       "      <th>Fuel_Consumption_Hwy</th>\n",
       "      <th>Fuel_Consumption_Comb(L/100km)</th>\n",
       "      <th>Fuel_Consumption_Comb(msg)</th>\n",
       "      <th>CO2_Emissions</th>\n",
       "    </tr>\n",
       "  </thead>\n",
       "  <tbody>\n",
       "    <tr>\n",
       "      <th>count</th>\n",
       "      <td>679.000000</td>\n",
       "      <td>679.000000</td>\n",
       "      <td>679.000000</td>\n",
       "      <td>679.000000</td>\n",
       "      <td>679.000000</td>\n",
       "      <td>679.000000</td>\n",
       "      <td>679.000000</td>\n",
       "    </tr>\n",
       "    <tr>\n",
       "      <th>mean</th>\n",
       "      <td>3.252577</td>\n",
       "      <td>5.798233</td>\n",
       "      <td>14.591900</td>\n",
       "      <td>10.613844</td>\n",
       "      <td>12.802798</td>\n",
       "      <td>23.107511</td>\n",
       "      <td>293.656848</td>\n",
       "    </tr>\n",
       "    <tr>\n",
       "      <th>std</th>\n",
       "      <td>1.203751</td>\n",
       "      <td>1.531073</td>\n",
       "      <td>3.025654</td>\n",
       "      <td>2.357724</td>\n",
       "      <td>2.685590</td>\n",
       "      <td>5.308083</td>\n",
       "      <td>60.372456</td>\n",
       "    </tr>\n",
       "    <tr>\n",
       "      <th>min</th>\n",
       "      <td>1.000000</td>\n",
       "      <td>3.000000</td>\n",
       "      <td>4.900000</td>\n",
       "      <td>4.000000</td>\n",
       "      <td>4.500000</td>\n",
       "      <td>14.000000</td>\n",
       "      <td>104.000000</td>\n",
       "    </tr>\n",
       "    <tr>\n",
       "      <th>25%</th>\n",
       "      <td>2.200000</td>\n",
       "      <td>4.000000</td>\n",
       "      <td>12.700000</td>\n",
       "      <td>9.000000</td>\n",
       "      <td>11.000000</td>\n",
       "      <td>19.000000</td>\n",
       "      <td>253.000000</td>\n",
       "    </tr>\n",
       "    <tr>\n",
       "      <th>50%</th>\n",
       "      <td>3.000000</td>\n",
       "      <td>6.000000</td>\n",
       "      <td>14.300000</td>\n",
       "      <td>10.100000</td>\n",
       "      <td>12.300000</td>\n",
       "      <td>23.000000</td>\n",
       "      <td>283.000000</td>\n",
       "    </tr>\n",
       "    <tr>\n",
       "      <th>75%</th>\n",
       "      <td>4.200000</td>\n",
       "      <td>6.000000</td>\n",
       "      <td>16.650000</td>\n",
       "      <td>12.500000</td>\n",
       "      <td>14.850000</td>\n",
       "      <td>26.000000</td>\n",
       "      <td>340.000000</td>\n",
       "    </tr>\n",
       "    <tr>\n",
       "      <th>max</th>\n",
       "      <td>8.000000</td>\n",
       "      <td>12.000000</td>\n",
       "      <td>23.200000</td>\n",
       "      <td>18.000000</td>\n",
       "      <td>20.800000</td>\n",
       "      <td>63.000000</td>\n",
       "      <td>478.000000</td>\n",
       "    </tr>\n",
       "  </tbody>\n",
       "</table>\n",
       "</div>"
      ],
      "text/plain": [
       "       Engine_Size   Cylinders  Fuel_Consumption_City  Fuel_Consumption_Hwy  \\\n",
       "count   679.000000  679.000000             679.000000            679.000000   \n",
       "mean      3.252577    5.798233              14.591900             10.613844   \n",
       "std       1.203751    1.531073               3.025654              2.357724   \n",
       "min       1.000000    3.000000               4.900000              4.000000   \n",
       "25%       2.200000    4.000000              12.700000              9.000000   \n",
       "50%       3.000000    6.000000              14.300000             10.100000   \n",
       "75%       4.200000    6.000000              16.650000             12.500000   \n",
       "max       8.000000   12.000000              23.200000             18.000000   \n",
       "\n",
       "       Fuel_Consumption_Comb(L/100km)  Fuel_Consumption_Comb(msg)  \\\n",
       "count                      679.000000                  679.000000   \n",
       "mean                        12.802798                   23.107511   \n",
       "std                          2.685590                    5.308083   \n",
       "min                          4.500000                   14.000000   \n",
       "25%                         11.000000                   19.000000   \n",
       "50%                         12.300000                   23.000000   \n",
       "75%                         14.850000                   26.000000   \n",
       "max                         20.800000                   63.000000   \n",
       "\n",
       "       CO2_Emissions  \n",
       "count     679.000000  \n",
       "mean      293.656848  \n",
       "std        60.372456  \n",
       "min       104.000000  \n",
       "25%       253.000000  \n",
       "50%       283.000000  \n",
       "75%       340.000000  \n",
       "max       478.000000  "
      ]
     },
     "execution_count": 11,
     "metadata": {},
     "output_type": "execute_result"
    }
   ],
   "source": [
    "data.describe()"
   ]
  },
  {
   "cell_type": "markdown",
   "metadata": {},
   "source": [
    "## Observing Target, Numerical and Categorical Columns"
   ]
  },
  {
   "cell_type": "code",
   "execution_count": 12,
   "metadata": {},
   "outputs": [
    {
     "data": {
      "text/plain": [
       "(array([dtype('int64'), dtype('float64'), dtype('O')], dtype=object),\n",
       " array([3, 4, 5], dtype=int64))"
      ]
     },
     "execution_count": 12,
     "metadata": {},
     "output_type": "execute_result"
    }
   ],
   "source": [
    "np.unique(data.dtypes, return_counts = True)"
   ]
  },
  {
   "cell_type": "markdown",
   "metadata": {},
   "source": [
    "### Categorical Columns"
   ]
  },
  {
   "cell_type": "code",
   "execution_count": 13,
   "metadata": {},
   "outputs": [],
   "source": [
    "cat = data.dtypes[data.dtypes == 'O'].index.values"
   ]
  },
  {
   "cell_type": "code",
   "execution_count": 14,
   "metadata": {},
   "outputs": [
    {
     "data": {
      "text/plain": [
       "array(['Make', 'MODEL.1', 'Vehicle_Class', 'Transmission', 'Fuel_type'],\n",
       "      dtype=object)"
      ]
     },
     "execution_count": 14,
     "metadata": {},
     "output_type": "execute_result"
    }
   ],
   "source": [
    "cat"
   ]
  },
  {
   "cell_type": "code",
   "execution_count": 15,
   "metadata": {},
   "outputs": [
    {
     "name": "stdout",
     "output_type": "stream",
     "text": [
      "Column : Make\n",
      "count of classes : 34\n",
      "Counter({'FORD': 63, 'CHEVROLET': 60, 'DODGE': 47, 'BMW': 43, 'GMC': 41, 'TOYOTA': 36, 'VOLKSWAGEN': 35, 'MERCEDES-BENZ': 29, 'CHRYSLER': 25, 'AUDI': 24, 'MAZDA': 24, 'VOLVO': 24, 'NISSAN': 23, 'PONTIAC': 19, 'SAAB': 15, 'SATURN': 15, 'SUZUKI': 15, 'HONDA': 14, 'SUBARU': 13, 'HYUNDAI': 12, 'ACURA': 11, 'DAEWOO': 10, 'JAGUAR': 10, 'KIA': 10, 'PORSCHE': 10, 'JEEP': 9, 'LEXUS': 8, 'LINCOLN': 7, 'OLDSMOBILE': 7, 'BUICK': 6, 'INFINITI': 5, 'CADILLAC': 4, 'ISUZU': 4, 'PLYMOUTH': 1})\n",
      "************************************************************************************************************************\n",
      "Column : MODEL.1\n",
      "count of classes : 351\n",
      "Counter({'RAM 1500': 9, 'DAKOTA': 6, 'DAKOTA 4X4': 6, 'K1500 SIERRA 4X4': 6, 'JETTA': 6, 'C1500 SILVERADO': 5, 'K1500 SILVERADO 4X4': 5, 'F150': 5, 'F150 4X4': 5, 'C1500 SIERRA': 5, 'A4 QUATTRO': 4, 'A6 QUATTRO': 4, 'Z3': 4, 'CAMARO': 4, 'CAVALIER': 4, 'S10 FFV': 4, 'INTREPID': 4, 'SEBRING COUPE': 4, 'LANOS': 4, 'MUSTANG': 4, 'RANGER': 4, 'RANGER 4X4': 4, 'SONOMA FFV': 4, 'ACCENT': 4, 'TJ 4X4': 4, 'MAGENTIS': 4, 'LS': 4, '626': 4, 'PROTEGE': 4, 'SENTRA': 4, 'FIREBIRD': 4, 'SUNFIRE': 4, 'IMPREZA AWD': 4, 'CELICA': 4, 'TACOMA': 4, 'TACOMA 4X4': 4, 'TUNDRA': 4, 'GOLF': 4, 'NEW BEETLE': 4, 'PASSAT': 4, 'PASSAT WAGON': 4, 'A4': 3, 'X5': 3, 'G15/G25 CHEVY VAN': 3, 'G1500/G2500 CHEVY EXPRESS': 3, 'TRACKER CONVERTIBLE 4X4': 3, 'SEBRING': 3, 'GRAND CARAVAN': 3, 'RAM 1500 4X4': 3, 'RAM 1500 VAN': 3, 'RAM 2500 VAN': 3, 'E150 CLUB WAGON': 3, 'E150 VAN': 3, 'G15/G25 SAVANA CARGO': 3, 'G1500/G2500 SAVANA PASSENGER': 3, 'K1500 YUKON 4X4': 3, 'ACCORD': 3, 'MX-5 MIATA': 3, 'ALERO': 3, 'GRAND AM': 3, '9-3 TURBO #': 3, '9-5 TURBO': 3, '9-5 WAGON TURBO': 3, 'LEGACY WAGON AWD': 3, 'VITARA CONVERTIBLE 4X4': 3, 'CAMRY': 3, 'CAMRY SOLARA': 3, 'GTI': 3, 'C70 CONVERTIBLE TURBO': 3, 'C70 TURBO': 3, '1.7EL': 2, 'INTEGRA': 2, 'NSX': 2, 'ALLROAD': 2, 'S4 QUATTRO': 2, '320i': 2, '325Ci': 2, '325Ci CONVERTIBLE': 2, '325i': 2, '325xi': 2, '330Ci': 2, '330Ci CONVERTIBLE': 2, '330i': 2, '330xi': 2, '525i': 2, '525i SPORT WAGON': 2, '530i': 2, '540i': 2, 'BLAZER': 2, 'BLAZER 4X4': 2, 'C1500 TAHOE': 2, 'CORVETTE': 2, 'IMPALA': 2, 'K1500 TAHOE 4X4': 2, 'MONTE CARLO': 2, 'S10': 2, 'S10 4X4': 2, 'TRACKER VAN 4X4': 2, 'CONCORDE': 2, 'NEON': 2, 'PT CRUISER': 2, 'SEBRING CONVERTIBLE': 2, 'TOWN & COUNTRY': 2, 'LEGANZA': 2, 'NUBIRA': 2, 'NUBIRA WAGON': 2, 'DURANGO 4X4': 2, 'GRAND CARAVAN AWD': 2, 'RAM 1500 WAGON': 2, 'RAM 2500 WAGON': 2, 'COUGAR': 2, 'E250 VAN': 2, 'ESCAPE': 2, 'ESCAPE 4X4': 2, 'EX SPORT TRAC': 2, 'EX SPORT TRAC 4X4': 2, 'EXPEDITION 4X4': 2, 'EXPLORER 4X4': 2, 'FOCUS': 2, 'FOCUS #': 2, 'FOCUS WAGON': 2, 'FOCUS WAGON #': 2, 'C1500 YUKON': 2, 'JIMMY': 2, 'JIMMY 4X4': 2, 'K1500 YUKON XL 4X4': 2, 'SONOMA': 2, 'SONOMA 4X4': 2, 'CIVIC': 2, 'CIVIC Si/Si-G': 2, 'CR-V': 2, 'PRELUDE': 2, 'ELANTRA': 2, 'TIBURON': 2, 'G20': 2, 'RODEO 4X4': 2, 'TROOPER 4X4': 2, 'S-TYPE': 2, 'CHEROKEE 4X4': 2, 'GRAND CHEROKEE 4X4': 2, 'RIO': 2, 'SEPHIA': 2, 'SPORTAGE': 2, 'B3000': 2, 'B4000': 2, 'B4000 4X4': 2, 'TRIBUTE': 2, 'TRIBUTE 4X4': 2, 'C 240': 2, 'SLK 230 KOMPRESSOR': 2, 'SLK 320': 2, 'ALTIMA': 2, 'FRONTIER': 2, 'FRONTIER V6': 2, 'FRONTIER V6 #': 2, 'FRONTIER V6 4X4': 2, 'FRONTIER V6 4X4 #': 2, 'MAXIMA': 2, 'PATHFINDER 4X4': 2, 'XTERRA V6 4X4': 2, 'AURORA': 2, 'GRAND PRIX': 2, '911 CARRERA': 2, '911 CARRERA 4': 2, '911 TURBO': 2, 'BOXSTER': 2, 'BOXSTER S': 2, '9-3 TURBO': 2, '9-5 TURBO #': 2, '9-5 WAGON TURBO #': 2, 'L100/200': 2, 'SC COUPE': 2, 'SC COUPE #': 2, 'SL': 2, 'SL #': 2, 'SW WAGON #': 2, 'FORESTER AWD': 2, 'IMPREZA WAGON AWD': 2, 'LEGACY AWD': 2, 'ESTEEM': 2, 'ESTEEM WAGON': 2, 'GRAND VITARA 4X4': 2, 'SWIFT': 2, 'VITARA 4-DOOR 4X4': 2, 'XL-7 4X4': 2, 'COROLLA': 2, 'ECHO': 2, 'RAV4 4X4': 2, 'TUNDRA 4X4': 2, 'CABRIO': 2, 'GOLF TDI DIESEL': 2, 'JETTA TDI DIESEL': 2, 'NEW BEETLE TDI DIESEL': 2, 'S60': 2, 'S60 2.4T TURBO': 2, 'S60 T5 TURBO': 2, 'V70 2.4T WAGON TURBO': 2, 'V70 T5 WAGON TURBO': 2, 'V70 WAGON': 2, '3.2CL': 1, '3.2TL': 1, '3.5RL': 1, 'INTEGRA GS-R': 1, 'MDX': 1, 'A6': 1, 'A6 AVANT QUATTRO WAGON': 1, 'A8 L': 1, 'A8 QUATTRO': 1, 'S8 QUATTRO #': 1, 'TT COUPE QUATTRO': 1, 'TT COUPE QUATTRO #': 1, 'TT ROADSTER': 1, 'TT ROADSTER QUATTRO #': 1, '540i SPORT WAGON': 1, '740i': 1, '740iL': 1, '750iL': 1, 'M COUPE': 1, 'M ROADSTER': 1, 'M3': 1, 'M3 CONVERTIBLE': 1, 'M5': 1, 'Z8': 1, 'CENTURY': 1, 'LESABRE': 1, 'PARK AVENUE': 1, 'PARK AVENUE #': 1, 'REGAL': 1, 'REGAL #': 1, 'CATERA': 1, 'DEVILLE': 1, 'ELDORADO': 1, 'SEVILLE': 1, 'ASTRO CARGO': 1, 'ASTRO CARGO AWD': 1, 'ASTRO PASSENGER': 1, 'ASTRO PASSENGER AWD': 1, 'C1500 SUBURBAN': 1, 'CAVALIER BI-FUEL': 1, 'K1500 SUBURBAN 4X4': 1, 'MALIBU': 1, 'VENTURE': 1, '300M': 1, 'LHS': 1, 'NEON R/T #': 1, 'TOWN & COUNTRY AWD': 1, 'CARAVAN': 1, 'DURANGO 5.9 R/T 4X4 #': 1, 'RAM 2500 VAN CNG': 1, 'RAM 2500 WAGON CNG': 1, 'VIPER GTS': 1, 'VIPER RT/10': 1, 'CROWN VICTORIA': 1, 'CROWN VICTORIA NGV': 1, 'E250 VAN NGV': 1, 'EX SPORT 4X4': 1, 'GRAND MARQUIS': 1, 'MUSTANG #': 1, 'TAURUS': 1, 'TAURUS #': 1, 'TAURUS WAGON': 1, 'TAURUS WAGON #': 1, 'WINDSTAR WAGON': 1, 'C1500 YUKON XL': 1, 'SAFARI CARGO': 1, 'SAFARI CARGO AWD': 1, 'SAFARI PASSENGER': 1, 'SAFARI PASSENGER AWD': 1, 'INSIGHT': 1, 'ODYSSEY': 1, 'S2000': 1, 'SANTA FE': 1, 'SONATA 2.4L': 1, 'SONATA 2.5L': 1, 'XG300': 1, 'I30': 1, 'Q45': 1, 'QX4 4X4': 1, 'VANDEN PLAS': 1, 'XJ8': 1, 'XJ8L': 1, 'XJR #': 1, 'XK8': 1, 'XK8 CONVERTIBLE': 1, 'XKR #': 1, 'XKR CONVERTIBLE #': 1, 'LIBERTY 4X4': 1, 'ES 300': 1, 'GS 300': 1, 'GS 430': 1, 'IS 300': 1, 'LS 430': 1, 'LX 470': 1, 'RX 300': 1, 'RX 300 4X4': 1, 'CONTINENTAL': 1, 'NAVIGATOR 4X4': 1, 'TOWN CAR': 1, 'MILLENIA': 1, 'MILLENIA #': 1, 'MPV': 1, 'C 320': 1, 'CL 500': 1, 'CL 600': 1, 'CLK 320': 1, 'CLK 320 CABRIOLET': 1, 'CLK 430': 1, 'CLK 430 CABRIOLET': 1, 'CLK 55 AMG': 1, 'E 320': 1, 'E 320 4MATIC 4X4': 1, 'E 320 4MATIC WAGON 4X4': 1, 'E 320 WAGON': 1, 'E 430': 1, 'E 430 4MATIC 4X4': 1, 'E 55 AMG': 1, 'ML 320 4X4': 1, 'ML 430 4X4': 1, 'ML 55 AMG 4X4': 1, 'S 430': 1, 'S 500': 1, 'S 600': 1, 'SL 500': 1, 'SL 600': 1, 'QUEST': 1, 'INTRIGUE': 1, 'SILHOUETTE': 1, 'PROWLER': 1, 'AZTEK': 1, 'AZTEK AWD': 1, 'BONNEVILLE': 1, 'BONNEVILLE #': 1, 'GRAND PRIX #': 1, 'MONTANA': 1, 'L300': 1, 'LW200 WAGON': 1, 'LW300 WAGON': 1, '4RUNNER 4X4': 1, 'AVALON': 1, 'CAMRY SOLARA CONVERTIBLE': 1, 'PRIUS': 1, 'SEQUOIA 4X4': 1, 'SIENNA': 1, 'PASSAT 4MOTION': 1, 'PASSAT 4MOTION WAGON': 1, 'S40 TURBO': 1, 'S80/S80 EXECUTIVE 2.9': 1, 'S80/S80 EXECUTIVE T-6 TURBO': 1, 'V40 WAGON TURBO': 1, 'V70 WAGON AWD TURBO': 1, 'V70 XC AWD TURBO': 1})\n",
      "************************************************************************************************************************\n",
      "Column : Vehicle_Class\n",
      "count of classes : 14\n",
      "Counter({'COMPACT': 145, 'PICKUP TRUCK - STANDARD': 101, 'SUV': 98, 'MID-SIZE': 82, 'SUBCOMPACT': 62, 'TWO-SEATER': 31, 'STATION WAGON - MID-SIZE': 31, 'FULL-SIZE': 30, 'VAN - CARGO': 23, 'VAN - PASSENGER': 18, 'MINICOMPACT': 17, 'MINIVAN': 17, 'STATION WAGON - SMALL': 12, 'PICKUP TRUCK - SMALL': 12})\n",
      "************************************************************************************************************************\n",
      "Column : Transmission\n",
      "count of classes : 8\n",
      "Counter({'A4': 312, 'M5': 198, 'A5': 106, 'M6': 26, 'AS5': 15, 'AS4': 14, 'A3': 7, 'AV': 1})\n",
      "************************************************************************************************************************\n",
      "Column : Fuel_type\n",
      "count of classes : 5\n",
      "Counter({'X': 442, 'Z': 223, 'D': 6, 'E': 4, 'N': 4})\n",
      "************************************************************************************************************************\n"
     ]
    }
   ],
   "source": [
    "for i in cat:\n",
    "    print(\"Column :\", i)\n",
    "    print('count of classes :', data[i].nunique())\n",
    "    print(c(data[i]))\n",
    "    print('*'*120)"
   ]
  },
  {
   "cell_type": "code",
   "execution_count": 16,
   "metadata": {},
   "outputs": [
    {
     "data": {
      "text/plain": [
       "Counter({'Automatic': 425,\n",
       "         'Manual': 224,\n",
       "         'Automatic with Select Shift': 29,\n",
       "         'Continuously Variable': 1})"
      ]
     },
     "execution_count": 16,
     "metadata": {},
     "output_type": "execute_result"
    }
   ],
   "source": [
    "data['Transmission'] = np.where(data['Transmission'].isin([\"A4\", \"A5\", \"A3\"]), \"Automatic\", data[\"Transmission\"])\n",
    "\n",
    "data['Transmission'] = np.where(data['Transmission'].isin([\"M5\", \"M6\"]), \"Manual\", data[\"Transmission\"])\n",
    "\n",
    "data['Transmission'] = np.where(data['Transmission'].isin([\"AS4\", \"AS5\"]), \"Automatic with Select Shift\", data[\"Transmission\"])\n",
    "\n",
    "data['Transmission'] = np.where(data['Transmission'].isin([\"AV\"]), \"Continuously Variable\", data['Transmission'])\n",
    "\n",
    "c(data['Transmission'])"
   ]
  },
  {
   "cell_type": "code",
   "execution_count": 17,
   "metadata": {},
   "outputs": [
    {
     "data": {
      "text/plain": [
       "Counter({'Regular Gasoline': 442,\n",
       "         'Premium Gasoline': 223,\n",
       "         'Ethanol(E85)': 4,\n",
       "         'Natural Gas': 4,\n",
       "         'Diesel': 6})"
      ]
     },
     "execution_count": 17,
     "metadata": {},
     "output_type": "execute_result"
    }
   ],
   "source": [
    "data['Fuel_type'] = np.where(data['Fuel_type'] == \"Z\", \"Premium Gasoline\", data['Fuel_type'])\n",
    "\n",
    "data['Fuel_type'] = np.where(data['Fuel_type'] == \"X\", \"Regular Gasoline\", data['Fuel_type'])\n",
    "\n",
    "data['Fuel_type'] = np.where(data['Fuel_type'] == \"D\", \"Diesel\", data['Fuel_type'])\n",
    "\n",
    "data['Fuel_type'] = np.where(data['Fuel_type'] == \"E\", \"Ethanol(E85)\", data['Fuel_type'])\n",
    "\n",
    "data['Fuel_type'] = np.where(data['Fuel_type'] == \"N\", \"Natural Gas\", data['Fuel_type'])\n",
    "\n",
    "c(data['Fuel_type'])"
   ]
  },
  {
   "cell_type": "markdown",
   "metadata": {},
   "source": [
    "### Numerical Columns"
   ]
  },
  {
   "cell_type": "code",
   "execution_count": 18,
   "metadata": {},
   "outputs": [
    {
     "data": {
      "text/plain": [
       "array(['Engine_Size', 'Cylinders', 'Fuel_Consumption_City',\n",
       "       'Fuel_Consumption_Hwy', 'Fuel_Consumption_Comb(L/100km)',\n",
       "       'Fuel_Consumption_Comb(msg)', 'CO2_Emissions'], dtype=object)"
      ]
     },
     "execution_count": 18,
     "metadata": {},
     "output_type": "execute_result"
    }
   ],
   "source": [
    "data.dtypes[data.dtypes != 'O'].index.values"
   ]
  },
  {
   "cell_type": "markdown",
   "metadata": {},
   "source": [
    "## Handling Categorical Data"
   ]
  },
  {
   "cell_type": "markdown",
   "metadata": {},
   "source": [
    "### Label Encoding"
   ]
  },
  {
   "cell_type": "code",
   "execution_count": 19,
   "metadata": {},
   "outputs": [
    {
     "name": "stdout",
     "output_type": "stream",
     "text": [
      "Label Encoding of:  Make\n",
      "Counter({'FORD': 63, 'CHEVROLET': 60, 'DODGE': 47, 'BMW': 43, 'GMC': 41, 'TOYOTA': 36, 'VOLKSWAGEN': 35, 'MERCEDES-BENZ': 29, 'CHRYSLER': 25, 'AUDI': 24, 'MAZDA': 24, 'VOLVO': 24, 'NISSAN': 23, 'PONTIAC': 19, 'SAAB': 15, 'SATURN': 15, 'SUZUKI': 15, 'HONDA': 14, 'SUBARU': 13, 'HYUNDAI': 12, 'ACURA': 11, 'DAEWOO': 10, 'JAGUAR': 10, 'KIA': 10, 'PORSCHE': 10, 'JEEP': 9, 'LEXUS': 8, 'LINCOLN': 7, 'OLDSMOBILE': 7, 'BUICK': 6, 'INFINITI': 5, 'CADILLAC': 4, 'ISUZU': 4, 'PLYMOUTH': 1})\n",
      "Counter({9: 63, 5: 60, 8: 47, 2: 43, 10: 41, 31: 36, 32: 35, 21: 29, 6: 25, 1: 24, 20: 24, 33: 24, 22: 23, 25: 19, 27: 15, 28: 15, 30: 15, 11: 14, 29: 13, 12: 12, 0: 11, 7: 10, 15: 10, 17: 10, 26: 10, 16: 9, 18: 8, 19: 7, 23: 7, 3: 6, 13: 5, 4: 4, 14: 4, 24: 1})\n",
      "****************************************************************************************************\n",
      "Label Encoding of:  MODEL.1\n",
      "Counter({'RAM 1500': 9, 'DAKOTA': 6, 'DAKOTA 4X4': 6, 'K1500 SIERRA 4X4': 6, 'JETTA': 6, 'C1500 SILVERADO': 5, 'K1500 SILVERADO 4X4': 5, 'F150': 5, 'F150 4X4': 5, 'C1500 SIERRA': 5, 'A4 QUATTRO': 4, 'A6 QUATTRO': 4, 'Z3': 4, 'CAMARO': 4, 'CAVALIER': 4, 'S10 FFV': 4, 'INTREPID': 4, 'SEBRING COUPE': 4, 'LANOS': 4, 'MUSTANG': 4, 'RANGER': 4, 'RANGER 4X4': 4, 'SONOMA FFV': 4, 'ACCENT': 4, 'TJ 4X4': 4, 'MAGENTIS': 4, 'LS': 4, '626': 4, 'PROTEGE': 4, 'SENTRA': 4, 'FIREBIRD': 4, 'SUNFIRE': 4, 'IMPREZA AWD': 4, 'CELICA': 4, 'TACOMA': 4, 'TACOMA 4X4': 4, 'TUNDRA': 4, 'GOLF': 4, 'NEW BEETLE': 4, 'PASSAT': 4, 'PASSAT WAGON': 4, 'A4': 3, 'X5': 3, 'G15/G25 CHEVY VAN': 3, 'G1500/G2500 CHEVY EXPRESS': 3, 'TRACKER CONVERTIBLE 4X4': 3, 'SEBRING': 3, 'GRAND CARAVAN': 3, 'RAM 1500 4X4': 3, 'RAM 1500 VAN': 3, 'RAM 2500 VAN': 3, 'E150 CLUB WAGON': 3, 'E150 VAN': 3, 'G15/G25 SAVANA CARGO': 3, 'G1500/G2500 SAVANA PASSENGER': 3, 'K1500 YUKON 4X4': 3, 'ACCORD': 3, 'MX-5 MIATA': 3, 'ALERO': 3, 'GRAND AM': 3, '9-3 TURBO #': 3, '9-5 TURBO': 3, '9-5 WAGON TURBO': 3, 'LEGACY WAGON AWD': 3, 'VITARA CONVERTIBLE 4X4': 3, 'CAMRY': 3, 'CAMRY SOLARA': 3, 'GTI': 3, 'C70 CONVERTIBLE TURBO': 3, 'C70 TURBO': 3, '1.7EL': 2, 'INTEGRA': 2, 'NSX': 2, 'ALLROAD': 2, 'S4 QUATTRO': 2, '320i': 2, '325Ci': 2, '325Ci CONVERTIBLE': 2, '325i': 2, '325xi': 2, '330Ci': 2, '330Ci CONVERTIBLE': 2, '330i': 2, '330xi': 2, '525i': 2, '525i SPORT WAGON': 2, '530i': 2, '540i': 2, 'BLAZER': 2, 'BLAZER 4X4': 2, 'C1500 TAHOE': 2, 'CORVETTE': 2, 'IMPALA': 2, 'K1500 TAHOE 4X4': 2, 'MONTE CARLO': 2, 'S10': 2, 'S10 4X4': 2, 'TRACKER VAN 4X4': 2, 'CONCORDE': 2, 'NEON': 2, 'PT CRUISER': 2, 'SEBRING CONVERTIBLE': 2, 'TOWN & COUNTRY': 2, 'LEGANZA': 2, 'NUBIRA': 2, 'NUBIRA WAGON': 2, 'DURANGO 4X4': 2, 'GRAND CARAVAN AWD': 2, 'RAM 1500 WAGON': 2, 'RAM 2500 WAGON': 2, 'COUGAR': 2, 'E250 VAN': 2, 'ESCAPE': 2, 'ESCAPE 4X4': 2, 'EX SPORT TRAC': 2, 'EX SPORT TRAC 4X4': 2, 'EXPEDITION 4X4': 2, 'EXPLORER 4X4': 2, 'FOCUS': 2, 'FOCUS #': 2, 'FOCUS WAGON': 2, 'FOCUS WAGON #': 2, 'C1500 YUKON': 2, 'JIMMY': 2, 'JIMMY 4X4': 2, 'K1500 YUKON XL 4X4': 2, 'SONOMA': 2, 'SONOMA 4X4': 2, 'CIVIC': 2, 'CIVIC Si/Si-G': 2, 'CR-V': 2, 'PRELUDE': 2, 'ELANTRA': 2, 'TIBURON': 2, 'G20': 2, 'RODEO 4X4': 2, 'TROOPER 4X4': 2, 'S-TYPE': 2, 'CHEROKEE 4X4': 2, 'GRAND CHEROKEE 4X4': 2, 'RIO': 2, 'SEPHIA': 2, 'SPORTAGE': 2, 'B3000': 2, 'B4000': 2, 'B4000 4X4': 2, 'TRIBUTE': 2, 'TRIBUTE 4X4': 2, 'C 240': 2, 'SLK 230 KOMPRESSOR': 2, 'SLK 320': 2, 'ALTIMA': 2, 'FRONTIER': 2, 'FRONTIER V6': 2, 'FRONTIER V6 #': 2, 'FRONTIER V6 4X4': 2, 'FRONTIER V6 4X4 #': 2, 'MAXIMA': 2, 'PATHFINDER 4X4': 2, 'XTERRA V6 4X4': 2, 'AURORA': 2, 'GRAND PRIX': 2, '911 CARRERA': 2, '911 CARRERA 4': 2, '911 TURBO': 2, 'BOXSTER': 2, 'BOXSTER S': 2, '9-3 TURBO': 2, '9-5 TURBO #': 2, '9-5 WAGON TURBO #': 2, 'L100/200': 2, 'SC COUPE': 2, 'SC COUPE #': 2, 'SL': 2, 'SL #': 2, 'SW WAGON #': 2, 'FORESTER AWD': 2, 'IMPREZA WAGON AWD': 2, 'LEGACY AWD': 2, 'ESTEEM': 2, 'ESTEEM WAGON': 2, 'GRAND VITARA 4X4': 2, 'SWIFT': 2, 'VITARA 4-DOOR 4X4': 2, 'XL-7 4X4': 2, 'COROLLA': 2, 'ECHO': 2, 'RAV4 4X4': 2, 'TUNDRA 4X4': 2, 'CABRIO': 2, 'GOLF TDI DIESEL': 2, 'JETTA TDI DIESEL': 2, 'NEW BEETLE TDI DIESEL': 2, 'S60': 2, 'S60 2.4T TURBO': 2, 'S60 T5 TURBO': 2, 'V70 2.4T WAGON TURBO': 2, 'V70 T5 WAGON TURBO': 2, 'V70 WAGON': 2, '3.2CL': 1, '3.2TL': 1, '3.5RL': 1, 'INTEGRA GS-R': 1, 'MDX': 1, 'A6': 1, 'A6 AVANT QUATTRO WAGON': 1, 'A8 L': 1, 'A8 QUATTRO': 1, 'S8 QUATTRO #': 1, 'TT COUPE QUATTRO': 1, 'TT COUPE QUATTRO #': 1, 'TT ROADSTER': 1, 'TT ROADSTER QUATTRO #': 1, '540i SPORT WAGON': 1, '740i': 1, '740iL': 1, '750iL': 1, 'M COUPE': 1, 'M ROADSTER': 1, 'M3': 1, 'M3 CONVERTIBLE': 1, 'M5': 1, 'Z8': 1, 'CENTURY': 1, 'LESABRE': 1, 'PARK AVENUE': 1, 'PARK AVENUE #': 1, 'REGAL': 1, 'REGAL #': 1, 'CATERA': 1, 'DEVILLE': 1, 'ELDORADO': 1, 'SEVILLE': 1, 'ASTRO CARGO': 1, 'ASTRO CARGO AWD': 1, 'ASTRO PASSENGER': 1, 'ASTRO PASSENGER AWD': 1, 'C1500 SUBURBAN': 1, 'CAVALIER BI-FUEL': 1, 'K1500 SUBURBAN 4X4': 1, 'MALIBU': 1, 'VENTURE': 1, '300M': 1, 'LHS': 1, 'NEON R/T #': 1, 'TOWN & COUNTRY AWD': 1, 'CARAVAN': 1, 'DURANGO 5.9 R/T 4X4 #': 1, 'RAM 2500 VAN CNG': 1, 'RAM 2500 WAGON CNG': 1, 'VIPER GTS': 1, 'VIPER RT/10': 1, 'CROWN VICTORIA': 1, 'CROWN VICTORIA NGV': 1, 'E250 VAN NGV': 1, 'EX SPORT 4X4': 1, 'GRAND MARQUIS': 1, 'MUSTANG #': 1, 'TAURUS': 1, 'TAURUS #': 1, 'TAURUS WAGON': 1, 'TAURUS WAGON #': 1, 'WINDSTAR WAGON': 1, 'C1500 YUKON XL': 1, 'SAFARI CARGO': 1, 'SAFARI CARGO AWD': 1, 'SAFARI PASSENGER': 1, 'SAFARI PASSENGER AWD': 1, 'INSIGHT': 1, 'ODYSSEY': 1, 'S2000': 1, 'SANTA FE': 1, 'SONATA 2.4L': 1, 'SONATA 2.5L': 1, 'XG300': 1, 'I30': 1, 'Q45': 1, 'QX4 4X4': 1, 'VANDEN PLAS': 1, 'XJ8': 1, 'XJ8L': 1, 'XJR #': 1, 'XK8': 1, 'XK8 CONVERTIBLE': 1, 'XKR #': 1, 'XKR CONVERTIBLE #': 1, 'LIBERTY 4X4': 1, 'ES 300': 1, 'GS 300': 1, 'GS 430': 1, 'IS 300': 1, 'LS 430': 1, 'LX 470': 1, 'RX 300': 1, 'RX 300 4X4': 1, 'CONTINENTAL': 1, 'NAVIGATOR 4X4': 1, 'TOWN CAR': 1, 'MILLENIA': 1, 'MILLENIA #': 1, 'MPV': 1, 'C 320': 1, 'CL 500': 1, 'CL 600': 1, 'CLK 320': 1, 'CLK 320 CABRIOLET': 1, 'CLK 430': 1, 'CLK 430 CABRIOLET': 1, 'CLK 55 AMG': 1, 'E 320': 1, 'E 320 4MATIC 4X4': 1, 'E 320 4MATIC WAGON 4X4': 1, 'E 320 WAGON': 1, 'E 430': 1, 'E 430 4MATIC 4X4': 1, 'E 55 AMG': 1, 'ML 320 4X4': 1, 'ML 430 4X4': 1, 'ML 55 AMG 4X4': 1, 'S 430': 1, 'S 500': 1, 'S 600': 1, 'SL 500': 1, 'SL 600': 1, 'QUEST': 1, 'INTRIGUE': 1, 'SILHOUETTE': 1, 'PROWLER': 1, 'AZTEK': 1, 'AZTEK AWD': 1, 'BONNEVILLE': 1, 'BONNEVILLE #': 1, 'GRAND PRIX #': 1, 'MONTANA': 1, 'L300': 1, 'LW200 WAGON': 1, 'LW300 WAGON': 1, '4RUNNER 4X4': 1, 'AVALON': 1, 'CAMRY SOLARA CONVERTIBLE': 1, 'PRIUS': 1, 'SEQUOIA 4X4': 1, 'SIENNA': 1, 'PASSAT 4MOTION': 1, 'PASSAT 4MOTION WAGON': 1, 'S40 TURBO': 1, 'S80/S80 EXECUTIVE 2.9': 1, 'S80/S80 EXECUTIVE T-6 TURBO': 1, 'V40 WAGON TURBO': 1, 'V70 WAGON AWD TURBO': 1, 'V70 XC AWD TURBO': 1})\n",
      "Counter({239: 9, 101: 6, 102: 6, 175: 6, 171: 6, 65: 5, 176: 5, 130: 5, 131: 5, 64: 5, 34: 4, 37: 4, 349: 4, 73: 4, 79: 4, 262: 4, 168: 4, 281: 4, 183: 4, 212: 4, 247: 4, 248: 4, 298: 4, 40: 4, 310: 4, 200: 4, 190: 4, 20: 4, 233: 4, 282: 4, 132: 4, 300: 4, 163: 4, 81: 4, 303: 4, 304: 4, 323: 4, 148: 4, 218: 4, 226: 4, 229: 4, 33: 3, 338: 3, 143: 3, 145: 3, 314: 3, 279: 3, 151: 3, 240: 3, 241: 3, 243: 3, 113: 3, 114: 3, 144: 3, 146: 3, 179: 3, 41: 3, 214: 3, 42: 3, 150: 3, 25: 3, 26: 3, 28: 3, 185: 3, 336: 3, 74: 3, 75: 3, 160: 3, 70: 3, 71: 3, 0: 2, 166: 2, 220: 2, 43: 2, 264: 2, 5: 2, 6: 2, 7: 2, 8: 2, 9: 2, 10: 2, 11: 2, 12: 2, 13: 2, 15: 2, 16: 2, 17: 2, 18: 2, 56: 2, 57: 2, 67: 2, 96: 2, 162: 2, 178: 2, 210: 2, 260: 2, 261: 2, 315: 2, 93: 2, 216: 2, 235: 2, 280: 2, 311: 2, 186: 2, 221: 2, 222: 2, 104: 2, 152: 2, 242: 2, 245: 2, 97: 2, 115: 2, 121: 2, 122: 2, 126: 2, 127: 2, 128: 2, 129: 2, 133: 2, 134: 2, 135: 2, 136: 2, 68: 2, 173: 2, 174: 2, 180: 2, 296: 2, 297: 2, 84: 2, 85: 2, 98: 2, 231: 2, 118: 2, 309: 2, 147: 2, 253: 2, 318: 2, 259: 2, 83: 2, 153: 2, 252: 2, 283: 2, 299: 2, 53: 2, 54: 2, 55: 2, 316: 2, 317: 2, 62: 2, 292: 2, 293: 2, 44: 2, 138: 2, 139: 2, 140: 2, 141: 2, 142: 2, 202: 2, 230: 2, 348: 2, 49: 2, 155: 2, 30: 2, 31: 2, 32: 2, 60: 2, 61: 2, 24: 2, 27: 2, 29: 2, 181: 2, 277: 2, 278: 2, 288: 2, 289: 2, 301: 2, 137: 2, 164: 2, 184: 2, 123: 2, 124: 2, 157: 2, 302: 2, 335: 2, 347: 2, 95: 2, 117: 2, 249: 2, 324: 2, 72: 2, 149: 2, 172: 2, 219: 2, 266: 2, 267: 2, 268: 2, 326: 2, 327: 2, 328: 2, 1: 1, 2: 1, 3: 1, 167: 1, 203: 1, 35: 1, 36: 1, 38: 1, 39: 1, 269: 1, 319: 1, 320: 1, 321: 1, 322: 1, 19: 1, 21: 1, 22: 1, 23: 1, 195: 1, 196: 1, 197: 1, 198: 1, 199: 1, 350: 1, 82: 1, 187: 1, 224: 1, 225: 1, 250: 1, 251: 1, 78: 1, 103: 1, 119: 1, 285: 1, 45: 1, 46: 1, 47: 1, 48: 1, 66: 1, 80: 1, 177: 1, 201: 1, 332: 1, 4: 1, 188: 1, 217: 1, 312: 1, 77: 1, 105: 1, 244: 1, 246: 1, 333: 1, 334: 1, 99: 1, 100: 1, 116: 1, 125: 1, 154: 1, 213: 1, 305: 1, 306: 1, 307: 1, 308: 1, 337: 1, 69: 1, 272: 1, 273: 1, 274: 1, 275: 1, 165: 1, 223: 1, 263: 1, 276: 1, 294: 1, 295: 1, 339: 1, 161: 1, 236: 1, 238: 1, 331: 1, 340: 1, 341: 1, 342: 1, 343: 1, 344: 1, 345: 1, 346: 1, 189: 1, 120: 1, 158: 1, 159: 1, 170: 1, 191: 1, 194: 1, 254: 1, 255: 1, 94: 1, 215: 1, 313: 1, 204: 1, 205: 1, 211: 1, 63: 1, 86: 1, 87: 1, 88: 1, 89: 1, 90: 1, 91: 1, 92: 1, 106: 1, 107: 1, 108: 1, 109: 1, 110: 1, 111: 1, 112: 1, 206: 1, 207: 1, 208: 1, 256: 1, 257: 1, 258: 1, 290: 1, 291: 1, 237: 1, 169: 1, 287: 1, 234: 1, 51: 1, 52: 1, 58: 1, 59: 1, 156: 1, 209: 1, 182: 1, 192: 1, 193: 1, 14: 1, 50: 1, 76: 1, 232: 1, 284: 1, 286: 1, 227: 1, 228: 1, 265: 1, 270: 1, 271: 1, 325: 1, 329: 1, 330: 1})\n",
      "****************************************************************************************************\n",
      "Label Encoding of:  Vehicle_Class\n",
      "Counter({'COMPACT': 145, 'PICKUP TRUCK - STANDARD': 101, 'SUV': 98, 'MID-SIZE': 82, 'SUBCOMPACT': 62, 'TWO-SEATER': 31, 'STATION WAGON - MID-SIZE': 31, 'FULL-SIZE': 30, 'VAN - CARGO': 23, 'VAN - PASSENGER': 18, 'MINICOMPACT': 17, 'MINIVAN': 17, 'STATION WAGON - SMALL': 12, 'PICKUP TRUCK - SMALL': 12})\n",
      "Counter({0: 145, 6: 101, 10: 98, 2: 82, 9: 62, 11: 31, 7: 31, 1: 30, 12: 23, 13: 18, 3: 17, 4: 17, 8: 12, 5: 12})\n",
      "****************************************************************************************************\n",
      "Label Encoding of:  Transmission\n",
      "Counter({'Automatic': 425, 'Manual': 224, 'Automatic with Select Shift': 29, 'Continuously Variable': 1})\n",
      "Counter({0: 425, 3: 224, 1: 29, 2: 1})\n",
      "****************************************************************************************************\n",
      "Label Encoding of:  Fuel_type\n",
      "Counter({'Regular Gasoline': 442, 'Premium Gasoline': 223, 'Diesel': 6, 'Ethanol(E85)': 4, 'Natural Gas': 4})\n",
      "Counter({4: 442, 3: 223, 0: 6, 1: 4, 2: 4})\n",
      "****************************************************************************************************\n"
     ]
    }
   ],
   "source": [
    "from sklearn.preprocessing import LabelEncoder\n",
    "\n",
    "x = '*'\n",
    "\n",
    "for i in cat:\n",
    "    print(\"Label Encoding of: \", i)\n",
    "    le = LabelEncoder()\n",
    "    print(c(data[i]))\n",
    "    data[i] = le.fit_transform(data[i])\n",
    "    print(c(data[i]))\n",
    "    print(x*100)"
   ]
  },
  {
   "cell_type": "markdown",
   "metadata": {},
   "source": [
    "## Data Visualization"
   ]
  },
  {
   "cell_type": "markdown",
   "metadata": {},
   "source": [
    "### Make"
   ]
  },
  {
   "cell_type": "code",
   "execution_count": 20,
   "metadata": {},
   "outputs": [
    {
     "data": {
      "text/plain": [
       "<matplotlib.axes._subplots.AxesSubplot at 0x20964869160>"
      ]
     },
     "execution_count": 20,
     "metadata": {},
     "output_type": "execute_result"
    },
    {
     "data": {
      "image/png": "[encoded data removed]",
      "text/plain": [
       "<Figure size 1368x360 with 1 Axes>"
      ]
     },
     "metadata": {
      "needs_background": "light"
     },
     "output_type": "display_data"
    }
   ],
   "source": [
    "plt.figure(figsize=(19,5));\n",
    "\n",
    "data.groupby(\"Make\")[\"Make\"].count().sort_values(ascending=False).plot(kind=\"bar\")"
   ]
  },
  {
   "cell_type": "markdown",
   "metadata": {},
   "source": [
    "### MODEL.1"
   ]
  },
  {
   "cell_type": "code",
   "execution_count": 21,
   "metadata": {},
   "outputs": [
    {
     "data": {
      "text/plain": [
       "<matplotlib.axes._subplots.AxesSubplot at 0x2096657bb70>"
      ]
     },
     "execution_count": 21,
     "metadata": {},
     "output_type": "execute_result"
    },
    {
     "data": {
      "image/png": "[encoded data removed]",
      "text/plain": [
       "<Figure size 432x288 with 1 Axes>"
      ]
     },
     "metadata": {
      "needs_background": "light"
     },
     "output_type": "display_data"
    }
   ],
   "source": [
    "data.groupby(\"MODEL.1\")[\"MODEL.1\"].count().sort_values(ascending=False)[:20].plot(kind=\"bar\")"
   ]
  },
  {
   "cell_type": "markdown",
   "metadata": {},
   "source": [
    "### Vehicle Class"
   ]
  },
  {
   "cell_type": "code",
   "execution_count": 22,
   "metadata": {},
   "outputs": [
    {
     "data": {
      "text/plain": [
       "<matplotlib.axes._subplots.AxesSubplot at 0x209663bdcf8>"
      ]
     },
     "execution_count": 22,
     "metadata": {},
     "output_type": "execute_result"
    },
    {
     "data": {
      "image/png": "[encoded data removed]",
      "text/plain": [
       "<Figure size 432x288 with 1 Axes>"
      ]
     },
     "metadata": {
      "needs_background": "light"
     },
     "output_type": "display_data"
    }
   ],
   "source": [
    "data.groupby('Vehicle_Class')['Vehicle_Class'].count().sort_values(ascending=False).plot(kind=\"bar\")"
   ]
  },
  {
   "cell_type": "markdown",
   "metadata": {},
   "source": [
    "### Transmission"
   ]
  },
  {
   "cell_type": "code",
   "execution_count": 23,
   "metadata": {},
   "outputs": [
    {
     "data": {
      "text/plain": [
       "<matplotlib.axes._subplots.AxesSubplot at 0x209664599e8>"
      ]
     },
     "execution_count": 23,
     "metadata": {},
     "output_type": "execute_result"
    },
    {
     "data": {
      "image/png": "[encoded data removed]",
      "text/plain": [
       "<Figure size 432x288 with 1 Axes>"
      ]
     },
     "metadata": {
      "needs_background": "light"
     },
     "output_type": "display_data"
    }
   ],
   "source": [
    "data.groupby('Transmission')['Transmission'].count().sort_values(ascending=False).plot(kind='bar')"
   ]
  },
  {
   "cell_type": "markdown",
   "metadata": {},
   "source": [
    "### Fuel_type"
   ]
  },
  {
   "cell_type": "code",
   "execution_count": 24,
   "metadata": {},
   "outputs": [
    {
     "data": {
      "text/plain": [
       "<matplotlib.axes._subplots.AxesSubplot at 0x209664c9748>"
      ]
     },
     "execution_count": 24,
     "metadata": {},
     "output_type": "execute_result"
    },
    {
     "data": {
      "image/png": "[encoded data removed]",
      "text/plain": [
       "<Figure size 432x288 with 1 Axes>"
      ]
     },
     "metadata": {
      "needs_background": "light"
     },
     "output_type": "display_data"
    }
   ],
   "source": [
    "data.groupby('Fuel_type')[\"Fuel_type\"].count().sort_values(ascending=False).plot(kind='bar')"
   ]
  },
  {
   "cell_type": "markdown",
   "metadata": {},
   "source": [
    "### Make vs CO2_Emission"
   ]
  },
  {
   "cell_type": "code",
   "execution_count": 25,
   "metadata": {},
   "outputs": [
    {
     "data": {
      "text/plain": [
       "<matplotlib.axes._subplots.AxesSubplot at 0x209664fa438>"
      ]
     },
     "execution_count": 25,
     "metadata": {},
     "output_type": "execute_result"
    },
    {
     "data": {
      "image/png": "[encoded data removed]",
      "text/plain": [
       "<Figure size 1800x432 with 1 Axes>"
      ]
     },
     "metadata": {
      "needs_background": "light"
     },
     "output_type": "display_data"
    }
   ],
   "source": [
    "mco2 = data.groupby(['Make'])['CO2_Emissions'].mean().sort_values()[:20].reset_index()\n",
    "\n",
    "plt.figure(figsize = (25, 6))\n",
    "\n",
    "sns.barplot(x = \"Make\", y = \"CO2_Emissions\", data = mco2)"
   ]
  },
  {
   "cell_type": "markdown",
   "metadata": {},
   "source": [
    "### Vehicle vs CO2_Emissions"
   ]
  },
  {
   "cell_type": "code",
   "execution_count": 26,
   "metadata": {},
   "outputs": [
    {
     "data": {
      "text/plain": [
       "<matplotlib.axes._subplots.AxesSubplot at 0x209664eac50>"
      ]
     },
     "execution_count": 26,
     "metadata": {},
     "output_type": "execute_result"
    },
    {
     "data": {
      "image/png": "[encoded data removed]",
      "text/plain": [
       "<Figure size 1440x432 with 1 Axes>"
      ]
     },
     "metadata": {
      "needs_background": "light"
     },
     "output_type": "display_data"
    }
   ],
   "source": [
    "vc = data.groupby('Vehicle_Class')['CO2_Emissions'].mean().sort_values(ascending = False)[:10].reset_index()\n",
    "\n",
    "plt.figure(figsize = (20, 6))\n",
    "\n",
    "sns.barplot(x = 'Vehicle_Class', y = 'CO2_Emissions', data = vc)"
   ]
  },
  {
   "cell_type": "markdown",
   "metadata": {},
   "source": [
    "### Transmission vs CO2_Emissions"
   ]
  },
  {
   "cell_type": "code",
   "execution_count": 27,
   "metadata": {},
   "outputs": [
    {
     "data": {
      "text/plain": [
       "<matplotlib.axes._subplots.AxesSubplot at 0x20966b03860>"
      ]
     },
     "execution_count": 27,
     "metadata": {},
     "output_type": "execute_result"
    },
    {
     "data": {
      "image/png": "[encoded data removed]",
      "text/plain": [
       "<Figure size 1440x432 with 1 Axes>"
      ]
     },
     "metadata": {
      "needs_background": "light"
     },
     "output_type": "display_data"
    }
   ],
   "source": [
    "tc = data.groupby('Transmission')['CO2_Emissions'].mean().sort_values(ascending = False)[:10].reset_index()\n",
    "\n",
    "plt.figure(figsize = (20,6))\n",
    "\n",
    "sns.barplot(x = 'Transmission',y = 'CO2_Emissions',data = tc)"
   ]
  },
  {
   "cell_type": "markdown",
   "metadata": {},
   "source": [
    "### Fuel_type vs CO2_Emission"
   ]
  },
  {
   "cell_type": "code",
   "execution_count": 28,
   "metadata": {},
   "outputs": [
    {
     "data": {
      "text/plain": [
       "<matplotlib.axes._subplots.AxesSubplot at 0x209668c8be0>"
      ]
     },
     "execution_count": 28,
     "metadata": {},
     "output_type": "execute_result"
    },
    {
     "data": {
      "image/png": "[encoded data removed]",
      "text/plain": [
       "<Figure size 1440x432 with 1 Axes>"
      ]
     },
     "metadata": {
      "needs_background": "light"
     },
     "output_type": "display_data"
    }
   ],
   "source": [
    "fc = data.groupby('Fuel_type')['CO2_Emissions'].mean().sort_values()[:10].reset_index()\n",
    "\n",
    "plt.figure(figsize = (20,6))\n",
    "\n",
    "sns.barplot(x = 'Fuel_type',y = 'CO2_Emissions',data = fc)"
   ]
  },
  {
   "cell_type": "markdown",
   "metadata": {},
   "source": [
    "### Correlation between columns"
   ]
  },
  {
   "cell_type": "code",
   "execution_count": 29,
   "metadata": {},
   "outputs": [
    {
     "data": {
      "image/png": "[encoded data removed]",
      "text/plain": [
       "<Figure size 1152x1152 with 2 Axes>"
      ]
     },
     "metadata": {
      "needs_background": "light"
     },
     "output_type": "display_data"
    }
   ],
   "source": [
    "corr = data.corr()\n",
    "\n",
    "plt.subplots(figsize = (16, 16))\n",
    "\n",
    "sns.heatmap(corr, annot = True, square = True)\n",
    "\n",
    "plt.title(\"Correlation matrix of numerical features\")\n",
    "\n",
    "plt.tight_layout()\n",
    "\n",
    "plt.show()"
   ]
  },
  {
   "cell_type": "markdown",
   "metadata": {},
   "source": [
    "### Correlation with Target Column"
   ]
  },
  {
   "cell_type": "code",
   "execution_count": 30,
   "metadata": {},
   "outputs": [
    {
     "data": {
      "text/plain": [
       "<matplotlib.axes._subplots.AxesSubplot at 0x20967167358>"
      ]
     },
     "execution_count": 30,
     "metadata": {},
     "output_type": "execute_result"
    },
    {
     "data": {
      "image/png": "[encoded data removed]",
      "text/plain": [
       "<Figure size 1152x360 with 1 Axes>"
      ]
     },
     "metadata": {
      "needs_background": "light"
     },
     "output_type": "display_data"
    }
   ],
   "source": [
    "plt.figure(figsize = (16, 5))\n",
    "\n",
    "corr[\"CO2_Emissions\"].sort_values(ascending = True)[:-1].plot(kind = \"barh\")"
   ]
  },
  {
   "cell_type": "markdown",
   "metadata": {},
   "source": [
    "## Splitting Train and Test Data"
   ]
  },
  {
   "cell_type": "markdown",
   "metadata": {},
   "source": [
    "### Creating the Dependent and Independent variable"
   ]
  },
  {
   "cell_type": "code",
   "execution_count": 31,
   "metadata": {},
   "outputs": [],
   "source": [
    "x = data.drop(['CO2_Emissions', 'Fuel_Consumption_Comb(L/100km)', 'MODEL.1'], axis = 1)\n",
    "\n",
    "x = pd.DataFrame(x)\n",
    "\n",
    "y = data['CO2_Emissions']\n",
    "\n",
    "y = pd.DataFrame(y)"
   ]
  },
  {
   "cell_type": "markdown",
   "metadata": {},
   "source": [
    "### Split into train and test data"
   ]
  },
  {
   "cell_type": "code",
   "execution_count": 32,
   "metadata": {},
   "outputs": [
    {
     "name": "stdout",
     "output_type": "stream",
     "text": [
      "(543, 9)\n",
      "(136, 9)\n",
      "(543, 1)\n",
      "(136, 1)\n"
     ]
    }
   ],
   "source": [
    "x_train, x_test, y_train, y_test = train_test_split(x, y, test_size = 0.2, random_state = 2)\n",
    "\n",
    "print(x_train.shape)\n",
    "print(x_test.shape)\n",
    "\n",
    "print(y_train.shape)\n",
    "print(y_test.shape)"
   ]
  },
  {
   "cell_type": "markdown",
   "metadata": {},
   "source": [
    "## Building the Model"
   ]
  },
  {
   "cell_type": "markdown",
   "metadata": {},
   "source": [
    "### Fit the data with linear regression"
   ]
  },
  {
   "cell_type": "code",
   "execution_count": 33,
   "metadata": {},
   "outputs": [],
   "source": [
    "lr = LinearRegression()\n",
    "\n",
    "lr = lr.fit(x_train, y_train)"
   ]
  },
  {
   "cell_type": "markdown",
   "metadata": {},
   "source": [
    "### Predict the values"
   ]
  },
  {
   "cell_type": "code",
   "execution_count": 34,
   "metadata": {},
   "outputs": [
    {
     "data": {
      "text/plain": [
       "array([[354.85171194],\n",
       "       [268.4531707 ],\n",
       "       [297.60466559],\n",
       "       [193.3382349 ],\n",
       "       [341.50860242],\n",
       "       [343.92395653],\n",
       "       [222.27378841],\n",
       "       [294.07573247],\n",
       "       [263.1368257 ],\n",
       "       [209.03213488],\n",
       "       [285.54329257],\n",
       "       [277.82183883],\n",
       "       [287.76554147],\n",
       "       [428.15918777],\n",
       "       [217.86410296],\n",
       "       [343.0229313 ],\n",
       "       [339.376677  ],\n",
       "       [347.35915488],\n",
       "       [232.63908778],\n",
       "       [336.53765593],\n",
       "       [256.38284942],\n",
       "       [365.34981444],\n",
       "       [348.4734845 ],\n",
       "       [369.40493529],\n",
       "       [240.17803987],\n",
       "       [160.19361701],\n",
       "       [266.35988375],\n",
       "       [192.76228697],\n",
       "       [298.09905274],\n",
       "       [309.2563186 ],\n",
       "       [389.16961768],\n",
       "       [260.23251057],\n",
       "       [263.66960713],\n",
       "       [279.69974172],\n",
       "       [282.36328082],\n",
       "       [235.88174772],\n",
       "       [269.37956017],\n",
       "       [235.80954707],\n",
       "       [397.71787918],\n",
       "       [321.76032239],\n",
       "       [297.18887096],\n",
       "       [280.38247127],\n",
       "       [199.73208844],\n",
       "       [268.08133507],\n",
       "       [291.28997831],\n",
       "       [276.60742477],\n",
       "       [212.62324978],\n",
       "       [238.47833935],\n",
       "       [338.41057534],\n",
       "       [257.69355005],\n",
       "       [224.35380921],\n",
       "       [236.6531446 ],\n",
       "       [261.14576515],\n",
       "       [270.85114363],\n",
       "       [310.94522007],\n",
       "       [300.37771863],\n",
       "       [349.40036287],\n",
       "       [295.30034705],\n",
       "       [290.79815112],\n",
       "       [319.89208943],\n",
       "       [293.39584129],\n",
       "       [390.18917558],\n",
       "       [357.73962138],\n",
       "       [392.08354251],\n",
       "       [271.1272693 ],\n",
       "       [359.81376639],\n",
       "       [142.26875107],\n",
       "       [298.86482854],\n",
       "       [441.47530194],\n",
       "       [255.81276968],\n",
       "       [254.11165989],\n",
       "       [302.94097234],\n",
       "       [399.50694857],\n",
       "       [376.58065502],\n",
       "       [408.63207666],\n",
       "       [228.18481614],\n",
       "       [303.87024204],\n",
       "       [278.78762984],\n",
       "       [360.65172436],\n",
       "       [251.68153178],\n",
       "       [377.60230206],\n",
       "       [388.58726636],\n",
       "       [386.52901494],\n",
       "       [343.94884817],\n",
       "       [236.12261369],\n",
       "       [348.10258087],\n",
       "       [388.45153308],\n",
       "       [260.68724834],\n",
       "       [252.98640199],\n",
       "       [199.33649598],\n",
       "       [339.25822045],\n",
       "       [246.59256718],\n",
       "       [229.49378872],\n",
       "       [363.59575656],\n",
       "       [255.74305703],\n",
       "       [271.02567228],\n",
       "       [164.55458551],\n",
       "       [251.5098338 ],\n",
       "       [294.11855237],\n",
       "       [316.2866712 ],\n",
       "       [332.45691915],\n",
       "       [309.05724437],\n",
       "       [244.88345132],\n",
       "       [288.44835173],\n",
       "       [393.333688  ],\n",
       "       [319.86993637],\n",
       "       [352.26639419],\n",
       "       [305.27559636],\n",
       "       [297.60466559],\n",
       "       [264.130634  ],\n",
       "       [313.46229089],\n",
       "       [307.11614684],\n",
       "       [365.21550926],\n",
       "       [384.28927752],\n",
       "       [281.00768423],\n",
       "       [300.63660985],\n",
       "       [225.5987073 ],\n",
       "       [284.88542119],\n",
       "       [274.96668092],\n",
       "       [271.80531191],\n",
       "       [283.84993743],\n",
       "       [297.8172023 ],\n",
       "       [306.03736305],\n",
       "       [369.92835883],\n",
       "       [362.12481178],\n",
       "       [425.08282231],\n",
       "       [303.34601923],\n",
       "       [295.76741988],\n",
       "       [383.19441828],\n",
       "       [326.08594788],\n",
       "       [411.29343347],\n",
       "       [275.57895008],\n",
       "       [304.60838987],\n",
       "       [281.14793877],\n",
       "       [338.14878082],\n",
       "       [393.21269292]])"
      ]
     },
     "execution_count": 34,
     "metadata": {},
     "output_type": "execute_result"
    }
   ],
   "source": [
    "y_pred = lr.predict(x_test)\n",
    "\n",
    "y_pred"
   ]
  },
  {
   "cell_type": "code",
   "execution_count": 35,
   "metadata": {},
   "outputs": [
    {
     "data": {
      "text/plain": [
       "array([[194.30811772]])"
      ]
     },
     "execution_count": 35,
     "metadata": {},
     "output_type": "execute_result"
    }
   ],
   "source": [
    "y_predict = lr.predict([[0, 0, 1.7, 4, 0, 4, 9.3, 7.2, 34]])\n",
    "\n",
    "y_predict"
   ]
  },
  {
   "cell_type": "markdown",
   "metadata": {},
   "source": [
    "## Model Evaluation"
   ]
  },
  {
   "cell_type": "markdown",
   "metadata": {},
   "source": [
    "#### MAE, MSE, RMSE"
   ]
  },
  {
   "cell_type": "code",
   "execution_count": 36,
   "metadata": {},
   "outputs": [
    {
     "name": "stdout",
     "output_type": "stream",
     "text": [
      "MAE:  5.327868570518991\n",
      "MSE:  260.82431344914227\n",
      "RMSE:  16.150056143838704\n"
     ]
    }
   ],
   "source": [
    "from sklearn import metrics\n",
    "\n",
    "print(\"MAE: \", metrics.mean_absolute_error(y_test, y_pred))\n",
    "\n",
    "print(\"MSE: \", metrics.mean_squared_error(y_test, y_pred))\n",
    "\n",
    "print(\"RMSE: \", np.sqrt(metrics.mean_squared_error(y_test, y_pred)))"
   ]
  },
  {
   "cell_type": "markdown",
   "metadata": {},
   "source": [
    "# Save the Model"
   ]
  },
  {
   "cell_type": "markdown",
   "metadata": {},
   "source": [
    "### Dumping the model"
   ]
  },
  {
   "cell_type": "code",
   "execution_count": 37,
   "metadata": {},
   "outputs": [],
   "source": [
    "pickle.dump(lr, open(\"CO2.pkl\", \"wb\"))"
   ]
  },
  {
   "cell_type": "markdown",
   "metadata": {},
   "source": [
    "----------------------------------------------------------\n",
    "--------------------------------------------------------------------"
   ]
  }
 ],
 "metadata": {
  "kernelspec": {
   "display_name": "Python 3",
   "language": "python",
   "name": "python3"
  },
  "language_info": {
   "codemirror_mode": {
    "name": "ipython",
    "version": 3
   },
   "file_extension": ".py",
   "mimetype": "text/x-python",
   "name": "python",
   "nbconvert_exporter": "python",
   "pygments_lexer": "ipython3",
   "version": "3.7.3"
  }
 },
 "nbformat": 4,
 "nbformat_minor": 2
}
